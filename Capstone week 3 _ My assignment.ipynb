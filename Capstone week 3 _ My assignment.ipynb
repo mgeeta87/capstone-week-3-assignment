{
    "nbformat_minor": 1, 
    "cells": [
        {
            "source": "# Create a new Notebook#", 
            "cell_type": "markdown", 
            "metadata": {
                "collapsed": true
            }
        }, 
        {
            "source": "\nhttps://en.wikipedia.org/wiki/List_of_postal_codes_of_Canada:_M, obtain the data in dataframe", 
            "cell_type": "markdown", 
            "metadata": {}
        }, 
        {
            "source": "# import libraries\n\nimport pandas as pd\nimport numpy as np\nfrom bs4 import BeautifulSoup\nimport requests", 
            "cell_type": "code", 
            "metadata": {}, 
            "outputs": [], 
            "execution_count": 17
        }, 
        {
            "source": "Waiting for a spark session to start ... \n\nSpark Initialization Done! ApplicationId = app-20180925012211-0000/n\n", 
            "cell_type": "markdown", 
            "metadata": {}
        }, 
        {
            "source": "# get the data from the link\n\nwikipedia_link='https://en.wikipedia.org/wiki/List_of_postal_codes_of_Canada:_M'\nraw_wikipedia_page= requests.get(wikipedia_link).text\n\n# using beautiful soup to parse the HTML/XML codes.\nsoup = BeautifulSoup(raw_wikipedia_page,'xml')\n#print(soup.prettify())\n", 
            "cell_type": "code", 
            "metadata": {}, 
            "outputs": [], 
            "execution_count": 18
        }, 
        {
            "source": "# Extracting the data", 
            "cell_type": "markdown", 
            "metadata": {}
        }, 
        {
            "source": "table = soup.find('table')\n\nPostcode      = []\nBorough       = []\nNeighbourhood = []\n\n#print (table)\n\n#extracting a clean form of the table\nfor tr_cell in table.find_all('tr'):\n    \n    counter = 1\n    Postcode_var      = -1\n    Borough_var       = -1\n    Neighbourhood_var = -1\n    \n    for td_cell in tr_cell.find_all('td'):\n        if counter ==1:\n            Postcode_var = td_cell.text\n        if counter == 2:\n            Borough_var = td_cell.text\n            tag_a_Borough = td_cell.find('a')\n            \n        if counter == 3:\n            Neighbourhood_var = str(td_cell.text).strip()\n            tag_a_Neighbourhood = td_cell.find('a')\n        \n        counter +=1\n        \n    if (Postcode_var == 'Not assigned' or Borough_var == 'Not assigned' or Neighbourhood_var == 'Not assigned'): \n        continue\n    try:\n        if ((tag_a_Borough is None) or (tag_a_Neighbourhood is None)):\n            continue\n    except:\n        pass\n    if(Postcode_var == -1 or Borough_var == -1 or Neighbourhood_var == -1):\n        continue\n        \n    Postcode.append(Postcode_var)\n    Borough.append(Borough_var)\n    Neighbourhood.append(Neighbourhood_var)\n\n        \n    \n        \n            ", 
            "cell_type": "code", 
            "metadata": {}, 
            "outputs": [], 
            "execution_count": 38
        }, 
        {
            "source": "# Postal codes 1+ Neighbour", 
            "cell_type": "markdown", 
            "metadata": {}
        }, 
        {
            "source": "unique_p = set (Postcode)\nprint('num of unique Postal codes:' , len(unique_p))\nPostcode_u      =[]\nBorough_u       =[]\nNeighbourhood_u =[]\n\nfor postcode_unique_element in unique_p:\n    p_var = ''; b_var = ''; n_var = '';\n    for postcode_idx, postcode_element in enumerate(Postcode):\n        if postcode_unique_element == postcode_element:\n            p_var = postcode_element;\n            b_var = Borough[postcode_idx]\n            if n_var =='':\n                n_var = Neighbourhood[postcode_idx]\n            else:\n                n_var = n_var +',' + Neighbourhood[postcode_idx]\n            Postcode_u.append(p_var)\n            Borough_u.append(b_var)\n            Neighbourhood_u.append(n_var)", 
            "cell_type": "code", 
            "metadata": {}, 
            "outputs": [
                {
                    "output_type": "stream", 
                    "name": "stdout", 
                    "text": "num of unique Postal codes: 84\n"
                }
            ], 
            "execution_count": 39
        }, 
        {
            "source": "# create Dataframe", 
            "cell_type": "markdown", 
            "metadata": {}
        }, 
        {
            "source": "toronto_dict = {'Postcode':Postcode_u, 'Borough':Borough_u, 'Neighbourhood':Neighbourhood_u}\ndf_toronto = pd.DataFrame.from_dict(toronto_dict)\ndf_toronto.to_csv('toronto_part1.csv')\ndf_toronto.head(14)", 
            "cell_type": "code", 
            "metadata": {}, 
            "outputs": [
                {
                    "output_type": "execute_result", 
                    "data": {
                        "text/plain": "            Borough                                      Neighbourhood  \\\n0   Central Toronto                                  Forest Hill North   \n1      East Toronto                                        The Beaches   \n2       Scarborough                                        Dorset Park   \n3       Scarborough                Dorset Park,Scarborough Town Centre   \n4       Scarborough  Dorset Park,Scarborough Town Centre,Wexford He...   \n5        North York                                   Lawrence Heights   \n6        North York                    Lawrence Heights,Lawrence Manor   \n7         East York                                   Woodbine Heights   \n8      West Toronto                                          High Park   \n9        North York                                     Bathurst Manor   \n10       North York                      Bathurst Manor,Wilson Heights   \n11       North York                                    Willowdale West   \n12        Etobicoke                                       The Kingsway   \n13        Etobicoke                                         Humber Bay   \n\n   Postcode  \n0       M5P  \n1       M4E  \n2       M1P  \n3       M1P  \n4       M1P  \n5       M6A  \n6       M6A  \n7       M4C  \n8       M6P  \n9       M3H  \n10      M3H  \n11      M2R  \n12      M8X  \n13      M8Y  ", 
                        "text/html": "<div>\n<style scoped>\n    .dataframe tbody tr th:only-of-type {\n        vertical-align: middle;\n    }\n\n    .dataframe tbody tr th {\n        vertical-align: top;\n    }\n\n    .dataframe thead th {\n        text-align: right;\n    }\n</style>\n<table border=\"1\" class=\"dataframe\">\n  <thead>\n    <tr style=\"text-align: right;\">\n      <th></th>\n      <th>Borough</th>\n      <th>Neighbourhood</th>\n      <th>Postcode</th>\n    </tr>\n  </thead>\n  <tbody>\n    <tr>\n      <th>0</th>\n      <td>Central Toronto</td>\n      <td>Forest Hill North</td>\n      <td>M5P</td>\n    </tr>\n    <tr>\n      <th>1</th>\n      <td>East Toronto</td>\n      <td>The Beaches</td>\n      <td>M4E</td>\n    </tr>\n    <tr>\n      <th>2</th>\n      <td>Scarborough</td>\n      <td>Dorset Park</td>\n      <td>M1P</td>\n    </tr>\n    <tr>\n      <th>3</th>\n      <td>Scarborough</td>\n      <td>Dorset Park,Scarborough Town Centre</td>\n      <td>M1P</td>\n    </tr>\n    <tr>\n      <th>4</th>\n      <td>Scarborough</td>\n      <td>Dorset Park,Scarborough Town Centre,Wexford He...</td>\n      <td>M1P</td>\n    </tr>\n    <tr>\n      <th>5</th>\n      <td>North York</td>\n      <td>Lawrence Heights</td>\n      <td>M6A</td>\n    </tr>\n    <tr>\n      <th>6</th>\n      <td>North York</td>\n      <td>Lawrence Heights,Lawrence Manor</td>\n      <td>M6A</td>\n    </tr>\n    <tr>\n      <th>7</th>\n      <td>East York</td>\n      <td>Woodbine Heights</td>\n      <td>M4C</td>\n    </tr>\n    <tr>\n      <th>8</th>\n      <td>West Toronto</td>\n      <td>High Park</td>\n      <td>M6P</td>\n    </tr>\n    <tr>\n      <th>9</th>\n      <td>North York</td>\n      <td>Bathurst Manor</td>\n      <td>M3H</td>\n    </tr>\n    <tr>\n      <th>10</th>\n      <td>North York</td>\n      <td>Bathurst Manor,Wilson Heights</td>\n      <td>M3H</td>\n    </tr>\n    <tr>\n      <th>11</th>\n      <td>North York</td>\n      <td>Willowdale West</td>\n      <td>M2R</td>\n    </tr>\n    <tr>\n      <th>12</th>\n      <td>Etobicoke</td>\n      <td>The Kingsway</td>\n      <td>M8X</td>\n    </tr>\n    <tr>\n      <th>13</th>\n      <td>Etobicoke</td>\n      <td>Humber Bay</td>\n      <td>M8Y</td>\n    </tr>\n  </tbody>\n</table>\n</div>"
                    }, 
                    "execution_count": 43, 
                    "metadata": {}
                }
            ], 
            "execution_count": 43
        }, 
        {
            "source": "df_toronto.shape", 
            "cell_type": "code", 
            "metadata": {}, 
            "outputs": [
                {
                    "output_type": "execute_result", 
                    "data": {
                        "text/plain": "(139, 3)"
                    }, 
                    "execution_count": 44, 
                    "metadata": {}
                }
            ], 
            "execution_count": 44
        }, 
        {
            "source": "", 
            "cell_type": "code", 
            "metadata": {}, 
            "outputs": [], 
            "execution_count": null
        }
    ], 
    "metadata": {
        "kernelspec": {
            "display_name": "Python 3.5", 
            "name": "python3", 
            "language": "python"
        }, 
        "language_info": {
            "mimetype": "text/x-python", 
            "nbconvert_exporter": "python", 
            "version": "3.5.5", 
            "name": "python", 
            "pygments_lexer": "ipython3", 
            "file_extension": ".py", 
            "codemirror_mode": {
                "version": 3, 
                "name": "ipython"
            }
        }
    }, 
    "nbformat": 4
}